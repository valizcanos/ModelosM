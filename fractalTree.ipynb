{
 "cells": [
  {
   "cell_type": "code",
   "execution_count": 1,
   "id": "95ffaffa",
   "metadata": {},
   "outputs": [],
   "source": [
    "import turtle"
   ]
  },
  {
   "cell_type": "code",
   "execution_count": 2,
   "id": "77f31d8d",
   "metadata": {},
   "outputs": [],
   "source": [
    "s = turtle.getscreen()"
   ]
  },
  {
   "cell_type": "code",
   "execution_count": 3,
   "id": "47d9eb46",
   "metadata": {},
   "outputs": [],
   "source": [
    "LongitudMinimaDeRama = 5"
   ]
  },
  {
   "cell_type": "code",
   "execution_count": 4,
   "id": "344e3c0a",
   "metadata": {},
   "outputs": [],
   "source": [
    "def build_tree(t, LogitudDeRama, CortarEn, angulo):\n",
    "    if LogitudDeRama > LongitudMinimaDeRama:\n",
    "        t.forward(LogitudDeRama)\n",
    "        NuevaLongitud = LogitudDeRama - CortarEn\n",
    "        t.left(angulo)\n",
    "        build_tree(t, NuevaLongitud, NuevaLongitud, angulo)\n",
    "        t.right(angulo * 2)\n",
    "        build_tree(t, NuevaLongitud, CortarEn, angulo)\n",
    "        t.left(angulo)\n",
    "        t.backward(LogitudDeRama)"
   ]
  },
  {
   "cell_type": "code",
   "execution_count": 5,
   "id": "142b0536",
   "metadata": {},
   "outputs": [
    {
     "data": {
      "text/plain": [
       "(0.00,0.00)"
      ]
     },
     "execution_count": 5,
     "metadata": {},
     "output_type": "execute_result"
    }
   ],
   "source": [
    "turtle.position() # Mostrar posición inicial"
   ]
  },
  {
   "cell_type": "code",
   "execution_count": 6,
   "id": "65386312",
   "metadata": {},
   "outputs": [
    {
     "data": {
      "text/plain": [
       "0.0"
      ]
     },
     "execution_count": 6,
     "metadata": {},
     "output_type": "execute_result"
    }
   ],
   "source": [
    "turtle.heading() # Mostrar angulo inicial"
   ]
  },
  {
   "cell_type": "code",
   "execution_count": 7,
   "id": "14074831",
   "metadata": {},
   "outputs": [],
   "source": [
    "tree = turtle.Turtle()\n",
    "tree.hideturtle()\n",
    "tree.setheading(90)\n",
    "tree.color('green')"
   ]
  },
  {
   "cell_type": "code",
   "execution_count": 8,
   "id": "3068482f",
   "metadata": {},
   "outputs": [],
   "source": [
    "build_tree(tree, 100, 5, 30)"
   ]
  },
  {
   "cell_type": "code",
   "execution_count": 9,
   "id": "b754b61b",
   "metadata": {},
   "outputs": [],
   "source": [
    "#turtle.mainloop()"
   ]
  },
  {
   "cell_type": "code",
   "execution_count": null,
   "id": "293cb71e",
   "metadata": {},
   "outputs": [],
   "source": []
  }
 ],
 "metadata": {
  "kernelspec": {
   "display_name": "Python 3 (ipykernel)",
   "language": "python",
   "name": "python3"
  },
  "language_info": {
   "codemirror_mode": {
    "name": "ipython",
    "version": 3
   },
   "file_extension": ".py",
   "mimetype": "text/x-python",
   "name": "python",
   "nbconvert_exporter": "python",
   "pygments_lexer": "ipython3",
   "version": "3.9.12"
  }
 },
 "nbformat": 4,
 "nbformat_minor": 5
}
